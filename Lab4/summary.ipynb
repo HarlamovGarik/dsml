{
 "cells": [
  {
   "cell_type": "markdown",
   "id": "dcfcf8f9-4e40-4f0d-b791-8546194a622c",
   "metadata": {
    "jp-MarkdownHeadingCollapsed": true,
    "tags": []
   },
   "source": [
    "## Перевірка різних методів кластерізації"
   ]
  },
  {
   "cell_type": "markdown",
   "id": "63577733-28c1-444e-a9cc-eb6dc12048dc",
   "metadata": {},
   "source": [
    "<img src=\"img/income clasification methods.jpg\" alt=\"text\">\n",
    "<img src=\"img/health clasification methods.jpg\" alt=\"text\">\n",
    "<img src=\"img/child_mort clasification methods.jpg\" alt=\"text\">"
   ]
  },
  {
   "cell_type": "markdown",
   "id": "787d2595-6e36-4e09-af0c-fc1717f0899d",
   "metadata": {},
   "source": [
    "<p>За графіками кластерів наглядно видно що метод Dbscan не підходить, найкращими методами можно виявити спектральний метод та k-mean очікування-максимізації</p>\n",
    "<p>Використовуючи метод очікування максимізації побудуємо всі наступні графіки з автоматичним виявилення кількость центрів</p>"
   ]
  },
  {
   "cell_type": "markdown",
   "id": "80eac57f-db1c-485e-9d38-5594bdf755e3",
   "metadata": {},
   "source": [
    "## Кластерізація характеристик за методом очікування максимізації"
   ]
  },
  {
   "cell_type": "markdown",
   "id": "2fa1a868-ea9d-4d48-892a-506ab3c28f80",
   "metadata": {},
   "source": [
    "<img src=\"img/gdpp clasification features.jpg\" alt=\"text\">"
   ]
  },
  {
   "cell_type": "markdown",
   "id": "1863e027-5bbd-4593-87cb-400d1ac3f3e4",
   "metadata": {},
   "source": [
    "## Результат кластерізації, фільтрації даних"
   ]
  },
  {
   "cell_type": "markdown",
   "id": "16ad1779-7f19-4d61-9903-4684f3db2ba8",
   "metadata": {},
   "source": [
    "<p>Провівши обрахунки всіх характеристик, я заніс їх до нової таблиці результатів кластерізації. <br>Вона містить назву країни, таргет у вигляді значення до нормалізаії і стопчиики характеристик у вигляді номерів кластера</p>\n",
    "<img src=\"img/sorted result data.png\", alt=\"result_table\">"
   ]
  },
  {
   "cell_type": "markdown",
   "id": "c6348a6f-332b-4a59-bf11-743ad98e7779",
   "metadata": {},
   "source": [
    "<p>Після необхідгої фільтрації були виявлені науступні країни</p>\n",
    "<img src=\"img/result head.png\", alt=\"result_table\">"
   ]
  },
  {
   "cell_type": "code",
   "execution_count": null,
   "id": "93e0ece4-5f06-4c32-8927-da5c9aa1a471",
   "metadata": {},
   "outputs": [],
   "source": []
  }
 ],
 "metadata": {
  "kernelspec": {
   "display_name": "Python 3 (ipykernel)",
   "language": "python",
   "name": "python3"
  },
  "language_info": {
   "codemirror_mode": {
    "name": "ipython",
    "version": 3
   },
   "file_extension": ".py",
   "mimetype": "text/x-python",
   "name": "python",
   "nbconvert_exporter": "python",
   "pygments_lexer": "ipython3",
   "version": "3.9.12"
  }
 },
 "nbformat": 4,
 "nbformat_minor": 5
}
