{
 "cells": [
  {
   "cell_type": "markdown",
   "id": "dcfcf8f9-4e40-4f0d-b791-8546194a622c",
   "metadata": {
    "jp-MarkdownHeadingCollapsed": true,
    "tags": []
   },
   "source": [
    "## Перевірка різних методів кластерізації"
   ]
  },
  {
   "cell_type": "markdown",
   "id": "63577733-28c1-444e-a9cc-eb6dc12048dc",
   "metadata": {},
   "source": [
    "<img src=\"img/income clasification methods.jpg\" alt=\"text\">\n",
    "<img src=\"img/health clasification methods.jpg\" alt=\"text\">\n",
    "<img src=\"img/child_mort clasification methods.jpg\" alt=\"text\">"
   ]
  },
  {
   "cell_type": "markdown",
   "id": "787d2595-6e36-4e09-af0c-fc1717f0899d",
   "metadata": {},
   "source": [
    "<p>За графіками кластерів наглядно видно що метод Dbscan не підходить, найкращими методами можно виявити спектральний метод та k-mean очікування-максимізації</p>\n",
    "<p>Використовуючи метод очікування максимізації побудуємо всі наступні графіки з автоматичним виявилення кількость центрів</p>"
   ]
  },
  {
   "cell_type": "markdown",
   "id": "19b5fec3-3112-4a74-a4ee-8ed51c3f5c48",
   "metadata": {
    "tags": []
   },
   "source": [
    "## Проводимо кореляцію даних для визначення цінних рис"
   ]
  },
  {
   "cell_type": "markdown",
   "id": "a3057d0f-7064-4a02-92b7-05ab47e7a3d1",
   "metadata": {},
   "source": [
    "![feature corr](img/feature_corr.png)"
   ]
  },
  {
   "cell_type": "markdown",
   "id": "32485829-34b5-4e67-a30c-202059fab880",
   "metadata": {},
   "source": [
    "За даною кореляцію можна зазначити наступне:\n",
    "* Як і очіковалось <b>термін життя</b> сильно залежить від дитячою смертності, а також народжуванності дитини а також від дохіда\n",
    "* Як і очікувалось теж саме стосується \"продолородності\"\n",
    "Тож можно не звертати увагу на ці дані"
   ]
  },
  {
   "cell_type": "markdown",
   "id": "b315036b-f956-4a1a-91c5-a5143b826fa6",
   "metadata": {},
   "source": [
    "![feature corr](img/gdpp_child_mort_clasification_features.jpg)"
   ]
  },
  {
   "cell_type": "markdown",
   "id": "aef39c80-3e86-4590-b25f-2d237568aec5",
   "metadata": {},
   "source": [
    "Як можно побачити більш нужденні країни знаходиться в 0 кластері з великою смертністю дітей і нізькою Валовим внутрішнім продуктом"
   ]
  },
  {
   "cell_type": "markdown",
   "id": "09fa73ff-261d-4de0-b254-ded1a892bbba",
   "metadata": {},
   "source": [
    "![feature corr](img/gdpp_health_clasification_features.jpg)"
   ]
  },
  {
   "cell_type": "markdown",
   "id": "a6dadf39-f510-430e-970b-c3643ca78bae",
   "metadata": {},
   "source": [
    "Як можно побачити більш нужденні країни знаходиться в 1 кластері з низьким відсотком вкладенням коштів в здоров'є і нізькою Валовим внутрішнім продуктом"
   ]
  },
  {
   "cell_type": "markdown",
   "id": "705ed23c-9609-44bd-8284-0a1ac20164fc",
   "metadata": {},
   "source": [
    "![feature corr](img/gdpp_imports_clasification_features.jpg)"
   ]
  },
  {
   "cell_type": "markdown",
   "id": "9466cd04-591c-4efe-b52d-ec464068a9cc",
   "metadata": {},
   "source": [
    "![feature corr](img/resulat_clustering.png)"
   ]
  },
  {
   "cell_type": "markdown",
   "id": "52446ecf-ff75-4fe0-93c8-4e059ca9b1c2",
   "metadata": {},
   "source": [
    "Після остаточної кластерізації всіх вказаних рис можно побачити зв'язок, 3 кластер відносить себе до стран яким треба допомогити "
   ]
  },
  {
   "cell_type": "markdown",
   "id": "00a7bffc-2294-4b85-bf9f-5c3efc5ef55e",
   "metadata": {},
   "source": [
    "Країни 3-світу"
   ]
  },
  {
   "cell_type": "markdown",
   "id": "0bf7a67c-708c-4b22-aa50-41cd983a2489",
   "metadata": {},
   "source": [
    "![feature corr](img/urgent_need.png)"
   ]
  },
  {
   "cell_type": "markdown",
   "id": "0fcfca86-5c22-475d-b3c6-22d7955a9c24",
   "metadata": {},
   "source": [
    "Всі останні країни надані в результуючуми файлі"
   ]
  }
 ],
 "metadata": {
  "kernelspec": {
   "display_name": "Python 3 (ipykernel)",
   "language": "python",
   "name": "python3"
  },
  "language_info": {
   "codemirror_mode": {
    "name": "ipython",
    "version": 3
},
   "file_extension": ".py",
   "mimetype": "text/x-python",
   "name": "python",
   "nbconvert_exporter": "python",
   "pygments_lexer": "ipython3",
   "version": "3.9.12"
  }
 },
 "nbformat": 4,
 "nbformat_minor": 5
}
