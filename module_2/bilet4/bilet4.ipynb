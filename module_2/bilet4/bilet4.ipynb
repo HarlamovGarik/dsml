{
 "cells": [
  {
   "cell_type": "markdown",
   "source": [
    "Варіант 4\n",
    "Контекст:\n",
    "Вам надані дані перепису населення. Кожний рядок – це клас з своїм набором характеристик та позначенням кількості людей, які відносяться до цього класу (fnlwgt). Ваше завдання візуально проаналізувати дані та зробити висновки щодо факторів, які впливають на категорію доходу.\n",
    "Файл містить фічі:\n",
    "1.\tage: continuous.\n",
    "2.\tworkclass: Private, Self-emp-not-inc, Self-emp-inc, Federal-gov, Local-gov, State-gov, Without-pay, Never-worked.\n",
    "3.\tfnlwgt: continuous (приблизна оцінка кількості людей, яку представляє кожен рядок даних)\n",
    "4.\teducation: Bachelors, Some-college, 11th, HS-grad, Prof-school, Assoc-acdm, Assoc-voc, 9th, 7th-8th, 12th, Masters, 1st-4th, 10th, Doctorate, 5th-6th, Preschool.\n",
    "5.\teducation-num: continuous (кількість років навчання всього)\n",
    "6.\tmarital-status: Married-civ-spouse, Divorced, Never-married, Separated, Widowed, Married-spouse-absent, Married-AF-spouse.\n",
    "7.\toccupation: Tech-support, Craft-repair, Other-service, Sales, Exec-managerial, Prof-specialty, Handlers-cleaners, Machine-op-inspct, Adm-clerical, Farming-fishing, Transport-moving, Priv-house-serv, Protective-serv, Armed-Forces.\n",
    "8.\trelationship: Wife, Own-child, Husband, Not-in-family, Other-relative, Unmarried.\n",
    "9.\trace: White, Asian-Pac-Islander, Amer-Indian-Eskimo, Other, Black.\n",
    "10.\tsex: Female, Male.\n",
    "11.\tcapital-gain: continuous.\n",
    "12.\tcapital-loss: continuous.\n",
    "13.\thours-per-week: continuous (скільки годин у тиждень працює)\n",
    "14.\tnative-country: United-States, Cambodia, England, Puerto-Rico, Canada, Germany, Outlying-US(Guam-USVI-etc), India, Japan, Greece, South, China, Cuba, Iran, Honduras, Philippines, Italy, Poland, Jamaica, Vietnam, Mexico, Portugal, Ireland, France, Dominican-Republic, Laos, Ecuador, Taiwan, Haiti, Columbia, Hungary, Guatemala, Nicaragua, Scotland, Thailand, Yugoslavia, El-Salvador, Trinadad&Tobago, Peru, Hong, Holand-Netherlands.\n",
    "15.\tIncome category ( >50K or <=50K dollars)\n",
    "Завдання:\n",
    "1.\tЗавантажте дані у проект\n",
    "2.\tЗробіть перевірку даних на консистентність та обробіть пропуски, якщо вони є\n",
    "3.\tЗробіть розвідувальний аналіз даних:\n",
    "a.\tРозподіліть дані на вікові підгрупи, виходячи з мінімального та максимального віку у виборці, з шагом у 10 років;\n",
    "b.\tЯкі перші три вікові підгрупи за найвищим співвідношенням кількісті людей, які заробляють більше 50К доларів на рік, до тих, хто заробляє менше 50К? (про кількість людей)\n",
    "c.\tЩо ви можете сказати про кількісний аналіз розподілу освіти / робочого класу по категоріях доходу?\n"
   ],
   "metadata": {
    "collapsed": false
   }
  },
  {
   "cell_type": "code",
   "execution_count": 1,
   "outputs": [],
   "source": [
    "import pandas as pd\n",
    "import seaborn as sns\n",
    "from matplotlib import pyplot as plt"
   ],
   "metadata": {
    "collapsed": false
   }
  },
  {
   "cell_type": "code",
   "execution_count": 2,
   "outputs": [],
   "source": [
    "def age_group(age: int):\n",
    "    if age == 18:\n",
    "        return \"18\"\n",
    "    elif 0 < age <= 10:\n",
    "        return \"0-10\"\n",
    "    elif 11 <= age <= 20:\n",
    "        return \"11+\"\n",
    "    elif 21 <= age <= 30:\n",
    "        return \"21+\"\n",
    "    elif 31 <= age <= 40:\n",
    "        return \"31+\"\n",
    "    elif 41 <= age <= 50:\n",
    "        return \"41+\"\n",
    "    elif 51 <= age <= 60:\n",
    "        return \"51+\"\n",
    "    elif 61 <= age <= 70:\n",
    "        return \"61+\"\n",
    "    elif 71 <= age <= 80:\n",
    "        return \"71+\"\n",
    "    elif age >= 81:\n",
    "        return \"81+\"\n",
    "    return None"
   ],
   "metadata": {
    "collapsed": false
   }
  },
  {
   "cell_type": "code",
   "execution_count": 3,
   "outputs": [
    {
     "data": {
      "text/plain": "Index(['age', 'workclass', 'fnlwgt', 'education', 'education_num',\n       'marital_status', 'occupation', 'relationship', 'race', 'sex',\n       'capital_gain', 'capital_loss', 'hours_per_week', 'native_country',\n       'income_category'],\n      dtype='object')"
     },
     "execution_count": 3,
     "metadata": {},
     "output_type": "execute_result"
    }
   ],
   "source": [
    "df = pd.read_csv(\"adult.csv\")\n",
    "df.columns = [\"age\", \"workclass\", \"fnlwgt\", \"education\", \"education-num\", \"marital-status\", \"occupation\", \"relationship\", \"race\", \"sex\", \"capital-gain\",\"capital-loss\", \"hours-per-week\", \"native-country\", \"Income category\"]\n",
    "df.columns = [column.lower().replace(\"-\", \"_\").replace(\" \", \"_\") for column in df.columns]\n",
    "df.columns"
   ],
   "metadata": {
    "collapsed": false
   }
  },
  {
   "cell_type": "code",
   "execution_count": 4,
   "outputs": [],
   "source": [
    "df = df[df.age > 0]\n",
    "df.insert(1, \"age_group\", [age_group(age) for age in df.age.to_list()])"
   ],
   "metadata": {
    "collapsed": false
   }
  },
  {
   "cell_type": "code",
   "execution_count": 5,
   "outputs": [
    {
     "data": {
      "text/plain": "       age age_group\n0       50       41+\n1       38       31+\n2       53       51+\n3       28       21+\n4       37       31+\n...    ...       ...\n32555   27       21+\n32556   40       31+\n32557   58       51+\n32558   22       21+\n32559   52       51+\n\n[32560 rows x 2 columns]",
      "text/html": "<div>\n<style scoped>\n    .dataframe tbody tr th:only-of-type {\n        vertical-align: middle;\n    }\n\n    .dataframe tbody tr th {\n        vertical-align: top;\n    }\n\n    .dataframe thead th {\n        text-align: right;\n    }\n</style>\n<table border=\"1\" class=\"dataframe\">\n  <thead>\n    <tr style=\"text-align: right;\">\n      <th></th>\n      <th>age</th>\n      <th>age_group</th>\n    </tr>\n  </thead>\n  <tbody>\n    <tr>\n      <th>0</th>\n      <td>50</td>\n      <td>41+</td>\n    </tr>\n    <tr>\n      <th>1</th>\n      <td>38</td>\n      <td>31+</td>\n    </tr>\n    <tr>\n      <th>2</th>\n      <td>53</td>\n      <td>51+</td>\n    </tr>\n    <tr>\n      <th>3</th>\n      <td>28</td>\n      <td>21+</td>\n    </tr>\n    <tr>\n      <th>4</th>\n      <td>37</td>\n      <td>31+</td>\n    </tr>\n    <tr>\n      <th>...</th>\n      <td>...</td>\n      <td>...</td>\n    </tr>\n    <tr>\n      <th>32555</th>\n      <td>27</td>\n      <td>21+</td>\n    </tr>\n    <tr>\n      <th>32556</th>\n      <td>40</td>\n      <td>31+</td>\n    </tr>\n    <tr>\n      <th>32557</th>\n      <td>58</td>\n      <td>51+</td>\n    </tr>\n    <tr>\n      <th>32558</th>\n      <td>22</td>\n      <td>21+</td>\n    </tr>\n    <tr>\n      <th>32559</th>\n      <td>52</td>\n      <td>51+</td>\n    </tr>\n  </tbody>\n</table>\n<p>32560 rows × 2 columns</p>\n</div>"
     },
     "execution_count": 5,
     "metadata": {},
     "output_type": "execute_result"
    }
   ],
   "source": [
    "df[[\"age\", \"age_group\"]]"
   ],
   "metadata": {
    "collapsed": false
   }
  },
  {
   "cell_type": "code",
   "execution_count": 6,
   "outputs": [
    {
     "data": {
      "text/plain": "0        0\n1        0\n2        0\n3        0\n4        0\n        ..\n32555    0\n32556    1\n32557    0\n32558    0\n32559    1\nName: income_category, Length: 32560, dtype: int32"
     },
     "execution_count": 6,
     "metadata": {},
     "output_type": "execute_result"
    }
   ],
   "source": [
    "from sklearn.preprocessing import LabelEncoder\n",
    "df['income_category'] = LabelEncoder().fit_transform(df['income_category'].values)\n",
    "df[\"income_category\"]"
   ],
   "metadata": {
    "collapsed": false
   }
  },
  {
   "cell_type": "code",
   "execution_count": 7,
   "outputs": [],
   "source": [
    "df_task_b = df[df.income_category == 0].groupby(\"age_group\").age.agg(['count'])"
   ],
   "metadata": {
    "collapsed": false
   }
  },
  {
   "cell_type": "code",
   "execution_count": 8,
   "outputs": [
    {
     "data": {
      "text/plain": "           count\nage_group       \n21+         7482\n31+         6139\n41+         4328",
      "text/html": "<div>\n<style scoped>\n    .dataframe tbody tr th:only-of-type {\n        vertical-align: middle;\n    }\n\n    .dataframe tbody tr th {\n        vertical-align: top;\n    }\n\n    .dataframe thead th {\n        text-align: right;\n    }\n</style>\n<table border=\"1\" class=\"dataframe\">\n  <thead>\n    <tr style=\"text-align: right;\">\n      <th></th>\n      <th>count</th>\n    </tr>\n    <tr>\n      <th>age_group</th>\n      <th></th>\n    </tr>\n  </thead>\n  <tbody>\n    <tr>\n      <th>21+</th>\n      <td>7482</td>\n    </tr>\n    <tr>\n      <th>31+</th>\n      <td>6139</td>\n    </tr>\n    <tr>\n      <th>41+</th>\n      <td>4328</td>\n    </tr>\n  </tbody>\n</table>\n</div>"
     },
     "execution_count": 8,
     "metadata": {},
     "output_type": "execute_result"
    }
   ],
   "source": [
    "df_task_b.sort_values('count', ascending=False).head(3)"
   ],
   "metadata": {
    "collapsed": false
   }
  },
  {
   "cell_type": "code",
   "execution_count": 9,
   "outputs": [],
   "source": [
    "df_task_c = df[[\"education\", \"workclass\", \"income_category\"]].groupby([\"income_category\", \"education\"]).count()"
   ],
   "metadata": {
    "collapsed": false
   }
  },
  {
   "cell_type": "code",
   "execution_count": 10,
   "outputs": [
    {
     "data": {
      "text/plain": "                               workclass\nincome_category education               \n0                10th                871\n                 11th               1115\n                 12th                400\n                 1st-4th             162\n                 5th-6th             317\n                 7th-8th             606\n                 9th                 487\n                 Assoc-acdm          802\n                 Assoc-voc          1021\n                 Bachelors          3133\n                 Doctorate           107\n                 HS-grad            8826\n                 Masters             764\n                 Preschool            51\n                 Prof-school         153\n                 Some-college       5904\n1                10th                 62\n                 11th                 60\n                 12th                 33\n                 1st-4th               6\n                 5th-6th              16\n                 7th-8th              40\n                 9th                  27\n                 Assoc-acdm          265\n                 Assoc-voc           361\n                 Bachelors          2221\n                 Doctorate           306\n                 HS-grad            1675\n                 Masters             959\n                 Prof-school         423\n                 Some-college       1387",
      "text/html": "<div>\n<style scoped>\n    .dataframe tbody tr th:only-of-type {\n        vertical-align: middle;\n    }\n\n    .dataframe tbody tr th {\n        vertical-align: top;\n    }\n\n    .dataframe thead th {\n        text-align: right;\n    }\n</style>\n<table border=\"1\" class=\"dataframe\">\n  <thead>\n    <tr style=\"text-align: right;\">\n      <th></th>\n      <th></th>\n      <th>workclass</th>\n    </tr>\n    <tr>\n      <th>income_category</th>\n      <th>education</th>\n      <th></th>\n    </tr>\n  </thead>\n  <tbody>\n    <tr>\n      <th rowspan=\"16\" valign=\"top\">0</th>\n      <th>10th</th>\n      <td>871</td>\n    </tr>\n    <tr>\n      <th>11th</th>\n      <td>1115</td>\n    </tr>\n    <tr>\n      <th>12th</th>\n      <td>400</td>\n    </tr>\n    <tr>\n      <th>1st-4th</th>\n      <td>162</td>\n    </tr>\n    <tr>\n      <th>5th-6th</th>\n      <td>317</td>\n    </tr>\n    <tr>\n      <th>7th-8th</th>\n      <td>606</td>\n    </tr>\n    <tr>\n      <th>9th</th>\n      <td>487</td>\n    </tr>\n    <tr>\n      <th>Assoc-acdm</th>\n      <td>802</td>\n    </tr>\n    <tr>\n      <th>Assoc-voc</th>\n      <td>1021</td>\n    </tr>\n    <tr>\n      <th>Bachelors</th>\n      <td>3133</td>\n    </tr>\n    <tr>\n      <th>Doctorate</th>\n      <td>107</td>\n    </tr>\n    <tr>\n      <th>HS-grad</th>\n      <td>8826</td>\n    </tr>\n    <tr>\n      <th>Masters</th>\n      <td>764</td>\n    </tr>\n    <tr>\n      <th>Preschool</th>\n      <td>51</td>\n    </tr>\n    <tr>\n      <th>Prof-school</th>\n      <td>153</td>\n    </tr>\n    <tr>\n      <th>Some-college</th>\n      <td>5904</td>\n    </tr>\n    <tr>\n      <th rowspan=\"15\" valign=\"top\">1</th>\n      <th>10th</th>\n      <td>62</td>\n    </tr>\n    <tr>\n      <th>11th</th>\n      <td>60</td>\n    </tr>\n    <tr>\n      <th>12th</th>\n      <td>33</td>\n    </tr>\n    <tr>\n      <th>1st-4th</th>\n      <td>6</td>\n    </tr>\n    <tr>\n      <th>5th-6th</th>\n      <td>16</td>\n    </tr>\n    <tr>\n      <th>7th-8th</th>\n      <td>40</td>\n    </tr>\n    <tr>\n      <th>9th</th>\n      <td>27</td>\n    </tr>\n    <tr>\n      <th>Assoc-acdm</th>\n      <td>265</td>\n    </tr>\n    <tr>\n      <th>Assoc-voc</th>\n      <td>361</td>\n    </tr>\n    <tr>\n      <th>Bachelors</th>\n      <td>2221</td>\n    </tr>\n    <tr>\n      <th>Doctorate</th>\n      <td>306</td>\n    </tr>\n    <tr>\n      <th>HS-grad</th>\n      <td>1675</td>\n    </tr>\n    <tr>\n      <th>Masters</th>\n      <td>959</td>\n    </tr>\n    <tr>\n      <th>Prof-school</th>\n      <td>423</td>\n    </tr>\n    <tr>\n      <th>Some-college</th>\n      <td>1387</td>\n    </tr>\n  </tbody>\n</table>\n</div>"
     },
     "execution_count": 10,
     "metadata": {},
     "output_type": "execute_result"
    }
   ],
   "source": [
    "df_task_c"
   ],
   "metadata": {
    "collapsed": false
   }
  }
 ],
 "metadata": {
  "kernelspec": {
   "display_name": "Python 3",
   "language": "python",
   "name": "python3"
  },
  "language_info": {
   "codemirror_mode": {
    "name": "ipython",
    "version": 2
   },
   "file_extension": ".py",
   "mimetype": "text/x-python",
   "name": "python",
   "nbconvert_exporter": "python",
   "pygments_lexer": "ipython2",
   "version": "2.7.6"
  }
 },
 "nbformat": 4,
 "nbformat_minor": 0
}
