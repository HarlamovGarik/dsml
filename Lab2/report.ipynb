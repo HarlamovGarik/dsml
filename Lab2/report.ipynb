{
 "cells": [
  {
   "cell_type": "markdown",
   "id": "402e44a7-799b-455d-919a-4baa595573a6",
   "metadata": {},
   "source": [
    "## Цінова характеристика за період року"
   ]
  },
  {
   "cell_type": "markdown",
   "id": "01a193b4-c5d7-4fd3-a1aa-2f51067d26f7",
   "metadata": {},
   "source": [
    "<img src=\"img/avg price per square feet.jpg\" alt=\"text\"> \n",
    "<img src=\"img/borough_price.png\" alt=\"text\">\n",
    "<img src=\"img/avg price per square feet2.jpg\" alt=\"text\"> \n",
    "<img src=\"img/type_price_per_feet.png\" alt=\"text\">"
   ]
  },
  {
   "cell_type": "markdown",
   "id": "b23b2572-f558-4b90-83cc-a5a75fe43747",
   "metadata": {},
   "source": [
    "## Кількісна характеристика за кварталами"
   ]
  },
  {
   "cell_type": "markdown",
   "id": "429f7c86-44ca-4723-af3b-b65e7b8f670d",
   "metadata": {},
   "source": [
    "<img src=\"img/count.jpg\" alt=\"text\"> \n",
    "<img src=\"img/count type building.jpg\" alt=\"text\"> \n",
    "<img src=\"img/buying buidings.jpg\" alt=\"text\">"
   ]
  },
  {
   "cell_type": "markdown",
   "id": "94ce99bd-7abb-4ad7-9071-5d79c7ab056a",
   "metadata": {},
   "source": [
    "## Процентна характеристика районів"
   ]
  },
  {
   "cell_type": "markdown",
   "id": "c766835f-7f87-41f4-8f61-8ce7167e9f7c",
   "metadata": {},
   "source": [
    "<img src=\"img/percentage of house types per district.jpg\" alt=\"text\">"
   ]
  }
 ],
 "metadata": {
  "kernelspec": {
   "display_name": "Python 3 (ipykernel)",
   "language": "python",
   "name": "python3"
  },
  "language_info": {
   "codemirror_mode": {
    "name": "ipython",
    "version": 3
   },
   "file_extension": ".py",
   "mimetype": "text/x-python",
   "name": "python",
   "nbconvert_exporter": "python",
   "pygments_lexer": "ipython3",
   "version": "3.9.12"
  }
 },
 "nbformat": 4,
 "nbformat_minor": 5
}
