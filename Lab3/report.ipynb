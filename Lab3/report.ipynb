{
 "cells": [
  {
   "cell_type": "markdown",
   "id": "3f87bc7f-08e0-4123-a31d-4945c3b54492",
   "metadata": {},
   "source": [
    "During the study of the given data frame, it was decided to reject the zero values of the price, to replace all numerical values with the average, and to process the string values separately."
   ]
  },
  {
   "cell_type": "markdown",
   "id": "261c809b-a6dd-4573-ad32-d4ed65472fb8",
   "metadata": {},
   "source": [
    "![describe](img/describe.jpg)"
   ]
  },
  {
   "cell_type": "markdown",
   "id": "d1676fdc-11b8-437b-a0bf-753f48e33862",
   "metadata": {},
   "source": [
    "<b>84.04%</b> Sedan is four doors.<br>\n",
    "* It was reasonable if missed data for the number of doors will be replace by four.<br>"
   ]
  },
  {
   "cell_type": "markdown",
   "id": "c52031e1-ea25-43c3-bd2c-a632496db1fc",
   "metadata": {},
   "source": [
    "![analyze_missing_num_of_doors](img/num_of_doors.jpg)"
   ]
  },
  {
   "cell_type": "markdown",
   "id": "3140affc-39fc-44da-ad29-3371ccdb5abc",
   "metadata": {},
   "source": [
    "We exclude extreme data загальна кількість зменшилась до 180"
   ]
  },
  {
   "cell_type": "markdown",
   "id": "36aaae25-4ac3-4154-8bfe-ac54fee38473",
   "metadata": {},
   "source": [
    "![result discribe](img/Result_description.png)"
   ]
  },
  {
   "cell_type": "markdown",
   "id": "811a5bad-8e9d-42e5-b3d4-2da219a3e7dd",
   "metadata": {},
   "source": [
    "Features vs Price"
   ]
  },
  {
   "cell_type": "markdown",
   "id": "ac08e525-a6c5-4675-8d97-ae00ace5fd87",
   "metadata": {},
   "source": [
    "* Symboling feature vs Price is 0.036, p-value is 0.6331842154850545<br>\n",
    "* Normalized losses feature vs Price is 0.317, p-value is 1.4352759788069227e-05<br>\n",
    "* Make feature vs Price is 0.005, p-value is 0.9465789197062073<br>\n",
    "* Body style feature vs Price is 0.085, p-value is 0.25421650817357294<br>\n",
    "* Drive wheels feature vs Price is 0.565, p-value is 1.5008084787375338e-16<br>\n",
    "* Wheel base feature vs Price is 0.612, p-value is 7.210669291835463e-20<br>\n",
    "* Length feature vs Price is 0.716, p-value is 1.3237649365440924e-29<br>\n",
    "* Width feature vs Price is 0.745, p-value is 4.483940735629761e-33<br>\n",
    "* Height feature vs Price is 0.187, p-value is 0.012055937204577285<br>\n",
    "* Curb weight feature vs Price is 0.838, p-value is 1.3532161301065677e-48<br>\n",
    "* Engine type feature vs Price is 0.053, p-value is 0.4819564774757745<br>\n",
    "* Num of cylinders feature vs Price is 0.155, p-value is 0.03756021162069747<br>\n",
    "* Engine size feature vs Price is 0.725, p-value is 1.1540207363299491e-30<br>\n",
    "* Fuel system feature vs Price is 0.671, p-value is 7.219421668533878e-25<br>\n",
    "* Compression ratio feature vs Price is 0.022, p-value is 0.766261136862567<br>\n",
    "* Horsepower feature vs Price is 0.769, p-value is 2.0073201202419802e-36<br>\n",
    "* Peak rpm feature vs Price is 0.046, p-value is 0.5410315199111934<br>\n",
    "* City mpg feature vs Price is 0.714, p-value is 2.591260715545443e-29<br>\n",
    "* Highway mpg feature vs Price is 0.699, p-value is 1.0327686400384447e-27<br>"
   ]
  },
  {
   "cell_type": "markdown",
   "id": "080440b4-f286-4a71-86b4-4a24bd37ee24",
   "metadata": {},
   "source": [
    "![general characteristics](img/general_characteristics.jpg)"
   ]
  },
  {
   "cell_type": "markdown",
   "id": "a277781b-11a3-49f1-a5b2-81cf0b76b1ca",
   "metadata": {},
   "source": [
    "![linear regresssion models](img/linear_regression_model.jpg)"
   ]
  },
  {
   "cell_type": "markdown",
   "id": "d84bd8e0-c5c6-4448-86d9-902af399c81c",
   "metadata": {},
   "source": [
    "![box-and-whisker plot model.jpg](img/box-and-whisker_plot_model.jpg)"
   ]
  },
  {
   "cell_type": "markdown",
   "id": "758e5b68-1cbf-4788-80f6-60ad806432a5",
   "metadata": {},
   "source": [
    "![importences features](img/importences_features.jpg)"
   ]
  },
  {
   "cell_type": "markdown",
   "id": "e223dd2f-d2e8-44a3-b1ba-c1b6a8ff9556",
   "metadata": {},
   "source": [
    "![linear regresssion models](img/result_correlation.jpg)"
   ]
  }
 ],
 "metadata": {
  "kernelspec": {
   "display_name": "Python 3 (ipykernel)",
   "language": "python",
   "name": "python3"
  },
  "language_info": {
   "codemirror_mode": {
    "name": "ipython",
    "version": 3
   },
   "file_extension": ".py",
   "mimetype": "text/x-python",
   "name": "python",
   "nbconvert_exporter": "python",
   "pygments_lexer": "ipython3",
   "version": "3.9.12"
  }
 },
 "nbformat": 4,
 "nbformat_minor": 5
}
