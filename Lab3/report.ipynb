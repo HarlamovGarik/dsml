{
 "cells": [
  {
   "cell_type": "markdown",
   "id": "5d8860df-6179-4c05-a596-c52bcf72f62b",
   "metadata": {
    "tags": []
   },
   "source": [
    "### Data Analysis "
   ]
  },
  {
   "cell_type": "markdown",
   "id": "3f87bc7f-08e0-4123-a31d-4945c3b54492",
   "metadata": {},
   "source": [
    "During the study of the given data frame, it was decided to reject the zero values of the price, to replace all numerical values with the average, and to process the string values separately."
   ]
  },
  {
   "cell_type": "markdown",
   "id": "261c809b-a6dd-4573-ad32-d4ed65472fb8",
   "metadata": {},
   "source": [
    "![describe](img/describe.jpg)"
   ]
  },
  {
   "cell_type": "markdown",
   "id": "d1676fdc-11b8-437b-a0bf-753f48e33862",
   "metadata": {},
   "source": [
    "<b>84.04%</b> Sedan is four doors.<br>\n",
    "* It was reasonable if missed data for the number of doors will be replace by four.<br>"
   ]
  },
  {
   "attachments": {
    "967456c0-26c0-451d-8814-abb4c2569397.jpg": {
     "image/jpeg": "[encoded data removed]"
    }
   },
   "cell_type": "markdown",
   "id": "c52031e1-ea25-43c3-bd2c-a632496db1fc",
   "metadata": {},
   "source": [
    "![num_of_doors.jpg](attachment:967456c0-26c0-451d-8814-abb4c2569397.jpg)![analyze_missing_num_of_doors](img/num_of_doors.jpg)"
   ]
  },
  {
   "cell_type": "markdown",
   "id": "3140affc-39fc-44da-ad29-3371ccdb5abc",
   "metadata": {},
   "source": [
    "We exclude extreme data, the total number decreased to 180"
   ]
  },
  {
   "cell_type": "markdown",
   "id": "36aaae25-4ac3-4154-8bfe-ac54fee38473",
   "metadata": {},
   "source": [
    "![result discribe](img/Result_description.png)"
   ]
  },
  {
   "cell_type": "markdown",
   "id": "764d1e7a-35a3-4f6f-b857-4601856d7c60",
   "metadata": {},
   "source": [
    "### Correlation\n",
    "\n",
    "After the correlation of the data, 20 features remained from the 26 presented, and the 3 most important features were also determined."
   ]
  },
  {
   "cell_type": "markdown",
   "id": "ac08e525-a6c5-4675-8d97-ae00ace5fd87",
   "metadata": {},
   "source": [
    "<b>Features vs Price:</b>\n",
    "* Symboling feature vs Price is 0.036, p-value is 0.6331842154850545<br>\n",
    "* Normalized losses feature vs Price is 0.317, p-value is 1.4352759788069227e-05<br>\n",
    "* Make feature vs Price is 0.005, p-value is 0.9465789197062073<br>\n",
    "* Body style feature vs Price is 0.085, p-value is 0.25421650817357294<br>\n",
    "* Drive wheels feature vs Price is 0.565, p-value is 1.5008084787375338e-16<br>\n",
    "* Wheel base feature vs Price is 0.612, p-value is 7.210669291835463e-20<br>\n",
    "* Length feature vs Price is 0.716, p-value is 1.3237649365440924e-29<br>\n",
    "* Width feature vs Price is 0.745, p-value is 4.483940735629761e-33<br>\n",
    "* Height feature vs Price is 0.187, p-value is 0.012055937204577285<br>\n",
    "* Curb weight feature vs Price is 0.838, p-value is 1.3532161301065677e-48<br>\n",
    "* Engine type feature vs Price is 0.053, p-value is 0.4819564774757745<br>\n",
    "* Num of cylinders feature vs Price is 0.155, p-value is 0.03756021162069747<br>\n",
    "* Engine size feature vs Price is 0.725, p-value is 1.1540207363299491e-30<br>\n",
    "* Fuel system feature vs Price is 0.671, p-value is 7.219421668533878e-25<br>\n",
    "* Compression ratio feature vs Price is 0.022, p-value is 0.766261136862567<br>\n",
    "* Horsepower feature vs Price is 0.769, p-value is 2.0073201202419802e-36<br>\n",
    "* Peak rpm feature vs Price is 0.046, p-value is 0.5410315199111934<br>\n",
    "* City mpg feature vs Price is 0.714, p-value is 2.591260715545443e-29<br>\n",
    "* Highway mpg feature vs Price is 0.699, p-value is 1.0327686400384447e-27<br>"
   ]
  },
  {
   "cell_type": "markdown",
   "id": "8a57b023-1bcb-4da6-959c-2cb8a7461149",
   "metadata": {
    "tags": []
   },
   "source": [
    "#### from the following features of the car, the most influential can be singled out:\n",
    "\n",
    "* <b>Curb weight</b> feature vs Price is 0.838, p-value is 1.3532161301065677e-48<br>\n",
    "* <b>Horsepower</b> feature vs Price is 0.769, p-value is 2.0073201202419802e-36<br>\n",
    "* <b>Engine size</b> feature vs Price is 0.725, p-value is 1.1540207363299491e-30<br>\n",
    "* City mpg feature vs Price is 0.714, p-value is 2.591260715545443e-29<br>\n",
    "* Highway mpg feature vs Price is 0.699, p-value is 1.0327686400384447e-27<br>\n",
    "* Fuel system feature vs Price is 0.671, p-value is 7.219421668533878e-25<br>"
   ]
  },
  {
   "cell_type": "markdown",
   "id": "4e9d4bea-d14a-48ce-b7fe-d7ff0c6ead54",
   "metadata": {},
   "source": [
    "### Visualization"
   ]
  },
  {
   "cell_type": "markdown",
   "id": "bcc45f37-21e0-4793-8baf-bb297da54e7c",
   "metadata": {},
   "source": [
    "general characteristics broken down by product manufacturer and body type"
   ]
  },
  {
   "cell_type": "markdown",
   "id": "080440b4-f286-4a71-86b4-4a24bd37ee24",
   "metadata": {},
   "source": [
    "| ![general characteristics](img/general_characteristics.jpg) |\n",
    "|:--:|\n",
    "|<b>Img.1 - general characteristics</b>|\n"
   ]
  },
  {
   "cell_type": "markdown",
   "id": "5f8eb9b4-f27b-42d8-9317-c5164aa5d036",
   "metadata": {},
   "source": [
    "As can be seen from the graphs, the most expensive cars are Jaguar, Mercedes-Benz, Porsche and BMW<br>\n",
    "The largest number of presented cars from the manufacturer toyota<br>\n",
    "The most diverse styles of the car are represented by a hardtop and a convertible with a minimum price of 12 thousand and a maximum of about 30 thousand and more"
   ]
  },
  {
   "cell_type": "markdown",
   "id": "a277781b-11a3-49f1-a5b2-81cf0b76b1ca",
   "metadata": {},
   "source": [
    "| ![linear regresssion models](img/linear_regression_model.jpg) |\n",
    "|:--:|\n",
    "|<b>Img.2 - linear reg characteristics</b>|"
   ]
  },
  {
   "cell_type": "markdown",
   "id": "cc4c01e2-45f0-471c-9a4c-7fef838ceb65",
   "metadata": {},
   "source": [
    "The fuel consumption ratio in the city and outside the city increases, and the price decreases. The situation is reversed with the size of the engine, as the size increases, the price increases."
   ]
  },
  {
   "cell_type": "markdown",
   "id": "d84bd8e0-c5c6-4448-86d9-902af399c81c",
   "metadata": {},
   "source": [
    "\n",
    "| ![box-and-whisker plot model.jpg](img/box-and-whisker_plot_model.jpg) |\n",
    "|:--:|\n",
    "|<b>Img.3 - box-plot characteristics</b>|"
   ]
  },
  {
   "cell_type": "markdown",
   "id": "b3bae5aa-60b9-46eb-b873-0f6e7c6ce34d",
   "metadata": {},
   "source": [
    "* According to the chart above, rear-engine cars have an average price of 35,000, front-engined cars range in price from 8,000 to 30,000, and the median is around 10,000.<br> But there are a small number that fall outside their chart . the price varies from 30 thousand to more than 45 thousand.<br>\n",
    "* The driving wheels of expensive cars are of the rwd type, the median number is about 17,000 and the larger number is concentrated from 14,000 to about 23,000."
   ]
  },
  {
   "cell_type": "markdown",
   "id": "758e5b68-1cbf-4788-80f6-60ad806432a5",
   "metadata": {},
   "source": [
    "| ![importences features](img/importences_features.jpg) |\n",
    "|:--:|\n",
    "|<b>Img.4 - Importences features using RandomForest</b>|"
   ]
  },
  {
   "cell_type": "markdown",
   "id": "63009971-1363-4bd5-bc7b-b7285e1c0c21",
   "metadata": {},
   "source": [
    "Using powerful tree-based ML models (random forest), calculated importences featyres"
   ]
  },
  {
   "cell_type": "markdown",
   "id": "e223dd2f-d2e8-44a3-b1ba-c1b6a8ff9556",
   "metadata": {},
   "source": [
    "| ![linear regresssion models](img/output.png) |\n",
    "|:--:|\n",
    "|<b>Img.5 - Correalation features </b>|"
   ]
  },
  {
   "cell_type": "markdown",
   "id": "53060f7d-e488-4708-8c13-dcfe7fa44759",
   "metadata": {},
   "source": [
    "Correlation of the data that we marked as important was carried out"
   ]
  }
 ],
 "metadata": {
  "kernelspec": {
   "display_name": "Python 3 (ipykernel)",
   "language": "python",
   "name": "python3"
  },
  "language_info": {
   "codemirror_mode": {
    "name": "ipython",
    "version": 3
   },
   "file_extension": ".py",
   "mimetype": "text/x-python",
   "name": "python",
   "nbconvert_exporter": "python",
   "pygments_lexer": "ipython3",
   "version": "3.9.12"
  }
 },
 "nbformat": 4,
 "nbformat_minor": 5
}
